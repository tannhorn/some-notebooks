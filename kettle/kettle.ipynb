{
 "cells": [
  {
   "cell_type": "code",
   "execution_count": null,
   "metadata": {},
   "outputs": [],
   "source": [
    "# @title Clone repository (hidden in Colab)\n",
    "try:\n",
    "    import google.colab\n",
    "\n",
    "    IN_COLAB = True\n",
    "except ImportError:\n",
    "    IN_COLAB = False\n",
    "\n",
    "if IN_COLAB:\n",
    "    !git clone https://github.com/tannhorn/some-notebooks.git\n",
    "    %cd some-notebooks\n",
    "    %cd kettle"
   ]
  },
  {
   "cell_type": "markdown",
   "metadata": {},
   "source": [
    "[![Open In Colab](https://colab.research.google.com/assets/colab-badge.svg)](https://colab.research.google.com/github/tannhorn/some-notebooks/blob/main/kettle/kettle.ipynb) [![GitHub](https://img.shields.io/badge/GitHub-black?logo=github)](https://github.com/tannhorn/some-notebooks/blob/main/kettle/kettle.ipynb)"
   ]
  },
  {
   "cell_type": "markdown",
   "metadata": {},
   "source": [
    "First we import the necessary packages + the backend `data`."
   ]
  },
  {
   "cell_type": "code",
   "execution_count": null,
   "metadata": {},
   "outputs": [],
   "source": [
    "import numpy as np\n",
    "from scipy.integrate import solve_ivp\n",
    "import plotly.graph_objects as go\n",
    "\n",
    "import data"
   ]
  },
  {
   "cell_type": "markdown",
   "metadata": {},
   "source": [
    "We set initial conditions and the time span for the solution."
   ]
  },
  {
   "cell_type": "code",
   "execution_count": null,
   "metadata": {},
   "outputs": [],
   "source": [
    "time_span: tuple[float, float] = (0, data.SIMULATION_TIME)  # Time span in seconds\n",
    "initial_conditions: list[float] = [data.T_METAL_0, data.T_WATER_0]"
   ]
  },
  {
   "cell_type": "markdown",
   "metadata": {},
   "source": [
    "We solve with constant heating."
   ]
  },
  {
   "cell_type": "code",
   "execution_count": null,
   "metadata": {},
   "outputs": [],
   "source": [
    "solution = solve_ivp(\n",
    "    data.temperature_ode,\n",
    "    time_span,\n",
    "    initial_conditions,\n",
    "    t_eval=np.linspace(0, data.SIMULATION_TIME, 1000),\n",
    "    method=\"LSODA\",\n",
    "    args=(data.heating_function_constant,),\n",
    ")"
   ]
  },
  {
   "cell_type": "markdown",
   "metadata": {},
   "source": [
    "Here we extract results."
   ]
  },
  {
   "cell_type": "code",
   "execution_count": null,
   "metadata": {},
   "outputs": [],
   "source": [
    "# Extract results\n",
    "time = solution.t\n",
    "T_metal = solution.y[0]\n",
    "T_water = solution.y[1]\n",
    "\n",
    "_, fraction = data.boiling_heat_flux_vect(T_metal)"
   ]
  },
  {
   "cell_type": "markdown",
   "metadata": {},
   "source": [
    "And plot."
   ]
  },
  {
   "cell_type": "code",
   "execution_count": null,
   "metadata": {},
   "outputs": [],
   "source": [
    "# Create figure\n",
    "fig = go.Figure()\n",
    "\n",
    "# Add Metal Temperature trace\n",
    "fig.add_trace(\n",
    "    go.Scatter(x=time, y=T_metal - 273.15, mode=\"lines\", name=\"Metal Temperature\")\n",
    ")\n",
    "\n",
    "# Add Water Temperature trace\n",
    "fig.add_trace(\n",
    "    go.Scatter(x=time, y=T_water - 273.15, mode=\"lines\", name=\"Water Temperature\")\n",
    ")\n",
    "\n",
    "# Add Saturation Temperature line\n",
    "fig.add_trace(\n",
    "    go.Scatter(\n",
    "        x=[time[0], time[-1]],\n",
    "        y=[data.T_SAT - 273.15] * 2,\n",
    "        mode=\"lines\",\n",
    "        name=\"Saturation Temperature\",\n",
    "        line=dict(color=\"red\", dash=\"dash\"),\n",
    "    )\n",
    ")\n",
    "\n",
    "# Add Boiling Intensity trace on secondary y-axis\n",
    "fig.add_trace(\n",
    "    go.Scatter(\n",
    "        x=time,\n",
    "        y=fraction/max(fraction),\n",
    "        mode=\"lines\",\n",
    "        name=\"Boiling Intensity (right axis)\",\n",
    "        yaxis=\"y2\",\n",
    "    )\n",
    ")\n",
    "\n",
    "# Add vertical dashed line at the end of heating\n",
    "fig.add_trace(\n",
    "    go.Scatter(\n",
    "        x=[data.TURNED_OFF_TIME, data.TURNED_OFF_TIME],\n",
    "        y=[min(T_metal - 273.15), max(T_metal - 273.15)],\n",
    "        mode=\"lines\",\n",
    "        name=f\"Heating Stops @ {data.TURNED_OFF_TIME} s\",\n",
    "        line=dict(color=\"black\", dash=\"dash\", width=1),\n",
    "    )\n",
    ")\n",
    "\n",
    "# Update layout\n",
    "fig.update_layout(\n",
    "    title=\"Constant Heating\",\n",
    "    xaxis=dict(title=\"Time (s)\"),\n",
    "    yaxis=dict(title=\"Temperature (°C)\"),\n",
    "    yaxis2=dict(title=\"Boiling Intensity (-)\", overlaying=\"y\", side=\"right\"),\n",
    "    legend=dict(x=0.5, y=0.1),\n",
    "    template=\"plotly_white\",\n",
    ")\n",
    "\n",
    "# Show the figure\n",
    "fig.show()"
   ]
  },
  {
   "cell_type": "markdown",
   "metadata": {},
   "source": [
    "Let's try now with a cycling function. First, let's plot the cycling function."
   ]
  },
  {
   "cell_type": "code",
   "execution_count": null,
   "metadata": {},
   "outputs": [],
   "source": [
    "values = [\n",
    "    data.heating_function_cycle(t) / 1000\n",
    "    for t in np.linspace(0, data.SIMULATION_TIME, 1000)\n",
    "]  # in kW\n",
    "\n",
    "# Create the Plotly figure\n",
    "fig = go.Figure()\n",
    "\n",
    "fig.add_trace(\n",
    "    go.Scatter(\n",
    "        x=time,\n",
    "        y=values,\n",
    "        mode=\"lines\",\n",
    "        line_shape=\"hv\",  # Use step-like appearance\n",
    "    )\n",
    ")\n",
    "\n",
    "# Customize the layout\n",
    "fig.update_layout(\n",
    "    title=f\"Heater power, cycle length {data.HEATING_CYCLE_LENGTH} s, turned off at {data.TURNED_OFF_TIME} s\",\n",
    "    xaxis_title=\"Time (s)\",\n",
    "    yaxis_title=\"Heater Power (kW)\",\n",
    "    template=\"plotly_white\",\n",
    ")\n",
    "\n",
    "# Show the plot\n",
    "fig.show()"
   ]
  },
  {
   "cell_type": "markdown",
   "metadata": {},
   "source": [
    "Here we solve. Note the very small maximum step value, this is needed due to the step-like character of the heating function."
   ]
  },
  {
   "cell_type": "code",
   "execution_count": null,
   "metadata": {},
   "outputs": [],
   "source": [
    "solution = solve_ivp(\n",
    "    data.temperature_ode,\n",
    "    time_span,\n",
    "    initial_conditions,\n",
    "    t_eval=np.linspace(0, data.SIMULATION_TIME, 1000),\n",
    "    method=\"LSODA\",\n",
    "    max_step=0.01,\n",
    "    args=(data.heating_function_cycle,),\n",
    ")"
   ]
  },
  {
   "cell_type": "markdown",
   "metadata": {},
   "source": [
    "Let's extract results."
   ]
  },
  {
   "cell_type": "code",
   "execution_count": null,
   "metadata": {},
   "outputs": [],
   "source": [
    "# Extract results\n",
    "time = solution.t\n",
    "T_metal = solution.y[0]\n",
    "T_water = solution.y[1]\n",
    "\n",
    "_, fraction = data.boiling_heat_flux_vect(T_metal)"
   ]
  },
  {
   "cell_type": "markdown",
   "metadata": {},
   "source": [
    "And plot."
   ]
  },
  {
   "cell_type": "code",
   "execution_count": null,
   "metadata": {},
   "outputs": [],
   "source": [
    "# Create figure\n",
    "fig = go.Figure()\n",
    "\n",
    "# Add Metal Temperature trace\n",
    "fig.add_trace(\n",
    "    go.Scatter(x=time, y=T_metal - 273.15, mode=\"lines\", name=\"Metal Temperature\")\n",
    ")\n",
    "\n",
    "# Add Water Temperature trace\n",
    "fig.add_trace(\n",
    "    go.Scatter(x=time, y=T_water - 273.15, mode=\"lines\", name=\"Water Temperature\")\n",
    ")\n",
    "\n",
    "# Add Saturation Temperature line\n",
    "fig.add_trace(\n",
    "    go.Scatter(\n",
    "        x=[time[0], time[-1]],\n",
    "        y=[data.T_SAT - 273.15] * 2,\n",
    "        mode=\"lines\",\n",
    "        name=\"Saturation Temperature\",\n",
    "        line=dict(color=\"red\", dash=\"dash\"),\n",
    "    )\n",
    ")\n",
    "\n",
    "# Add Boiling Intensity trace on secondary y-axis\n",
    "fig.add_trace(\n",
    "    go.Scatter(\n",
    "        x=time,\n",
    "        y=fraction/max(fraction),\n",
    "        mode=\"lines\",\n",
    "        name=\"Boiling Intensity (right axis)\",\n",
    "        yaxis=\"y2\",\n",
    "    )\n",
    ")\n",
    "\n",
    "# Add vertical dashed line at the end of heating\n",
    "fig.add_trace(\n",
    "    go.Scatter(\n",
    "        x=[data.TURNED_OFF_TIME, data.TURNED_OFF_TIME],\n",
    "        y=[min(T_metal - 273.15), max(T_metal - 273.15)],\n",
    "        mode=\"lines\",\n",
    "        name=f\"Heating Stops @ {data.TURNED_OFF_TIME} s\",\n",
    "        line=dict(color=\"black\", dash=\"dash\", width=1),\n",
    "    )\n",
    ")\n",
    "\n",
    "# Update layout\n",
    "fig.update_layout(\n",
    "    title=\"Cycling Heating\",\n",
    "    xaxis=dict(title=\"Time (s)\"),\n",
    "    yaxis=dict(title=\"Temperature (°C)\"),\n",
    "    yaxis2=dict(title=\"Boiling Intensity (-)\", overlaying=\"y\", side=\"right\"),\n",
    "    legend=dict(x=0.75, y=0.1),\n",
    "    template=\"plotly_white\",\n",
    ")\n",
    "\n",
    "# Show the figure\n",
    "fig.show()"
   ]
  }
 ],
 "metadata": {
  "kernelspec": {
   "display_name": "jupy",
   "language": "python",
   "name": "python3"
  },
  "language_info": {
   "codemirror_mode": {
    "name": "ipython",
    "version": 3
   },
   "file_extension": ".py",
   "mimetype": "text/x-python",
   "name": "python",
   "nbconvert_exporter": "python",
   "pygments_lexer": "ipython3",
   "version": "3.10.13"
  }
 },
 "nbformat": 4,
 "nbformat_minor": 2
}
